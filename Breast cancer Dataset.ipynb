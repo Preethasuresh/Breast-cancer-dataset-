{
 "cells": [
  {
   "cell_type": "code",
   "execution_count": 2,
   "id": "4091b9c4",
   "metadata": {
    "scrolled": true
   },
   "outputs": [],
   "source": [
    "import pandas as pd\n",
    "cancer=pd.read_csv(\"D:/Imarti Excel files/breast-cancer-wisconsin.data\",na_values=\"?\")"
   ]
  },
  {
   "cell_type": "code",
   "execution_count": 3,
   "id": "c242d031",
   "metadata": {},
   "outputs": [
    {
     "data": {
      "text/plain": [
       "(698, 11)"
      ]
     },
     "execution_count": 3,
     "metadata": {},
     "output_type": "execute_result"
    }
   ],
   "source": [
    "cancer.shape"
   ]
  },
  {
   "cell_type": "code",
   "execution_count": 4,
   "id": "7f62aee4",
   "metadata": {},
   "outputs": [],
   "source": [
    "cancer.columns=[\"code_number\",\"Clump_Thickness\",\"Uniformity_size\",\"Uniformity_shape\",\"Marginal_Adhesion\",\"Epithelial_size\",\"Bare_Nuclei\",\"Bland_Chromatin\",\"Normal_Nucleoli\",\"Mitoses\",\"Class\"]"
   ]
  },
  {
   "cell_type": "code",
   "execution_count": 5,
   "id": "92fa7196",
   "metadata": {},
   "outputs": [],
   "source": [
    "cancer.Bare_Nuclei.fillna(cancer.Bare_Nuclei.mean(),inplace=True)"
   ]
  },
  {
   "cell_type": "code",
   "execution_count": 6,
   "id": "7b96b061",
   "metadata": {},
   "outputs": [
    {
     "data": {
      "text/html": [
       "<div>\n",
       "<style scoped>\n",
       "    .dataframe tbody tr th:only-of-type {\n",
       "        vertical-align: middle;\n",
       "    }\n",
       "\n",
       "    .dataframe tbody tr th {\n",
       "        vertical-align: top;\n",
       "    }\n",
       "\n",
       "    .dataframe thead th {\n",
       "        text-align: right;\n",
       "    }\n",
       "</style>\n",
       "<table border=\"1\" class=\"dataframe\">\n",
       "  <thead>\n",
       "    <tr style=\"text-align: right;\">\n",
       "      <th></th>\n",
       "      <th>code_number</th>\n",
       "      <th>Clump_Thickness</th>\n",
       "      <th>Uniformity_size</th>\n",
       "      <th>Uniformity_shape</th>\n",
       "      <th>Marginal_Adhesion</th>\n",
       "      <th>Epithelial_size</th>\n",
       "      <th>Bare_Nuclei</th>\n",
       "      <th>Bland_Chromatin</th>\n",
       "      <th>Normal_Nucleoli</th>\n",
       "      <th>Mitoses</th>\n",
       "      <th>Class</th>\n",
       "    </tr>\n",
       "  </thead>\n",
       "  <tbody>\n",
       "    <tr>\n",
       "      <th>0</th>\n",
       "      <td>1002945</td>\n",
       "      <td>5</td>\n",
       "      <td>4</td>\n",
       "      <td>4</td>\n",
       "      <td>5</td>\n",
       "      <td>7</td>\n",
       "      <td>10.0</td>\n",
       "      <td>3</td>\n",
       "      <td>2</td>\n",
       "      <td>1</td>\n",
       "      <td>2</td>\n",
       "    </tr>\n",
       "    <tr>\n",
       "      <th>1</th>\n",
       "      <td>1015425</td>\n",
       "      <td>3</td>\n",
       "      <td>1</td>\n",
       "      <td>1</td>\n",
       "      <td>1</td>\n",
       "      <td>2</td>\n",
       "      <td>2.0</td>\n",
       "      <td>3</td>\n",
       "      <td>1</td>\n",
       "      <td>1</td>\n",
       "      <td>2</td>\n",
       "    </tr>\n",
       "    <tr>\n",
       "      <th>2</th>\n",
       "      <td>1016277</td>\n",
       "      <td>6</td>\n",
       "      <td>8</td>\n",
       "      <td>8</td>\n",
       "      <td>1</td>\n",
       "      <td>3</td>\n",
       "      <td>4.0</td>\n",
       "      <td>3</td>\n",
       "      <td>7</td>\n",
       "      <td>1</td>\n",
       "      <td>2</td>\n",
       "    </tr>\n",
       "    <tr>\n",
       "      <th>3</th>\n",
       "      <td>1017023</td>\n",
       "      <td>4</td>\n",
       "      <td>1</td>\n",
       "      <td>1</td>\n",
       "      <td>3</td>\n",
       "      <td>2</td>\n",
       "      <td>1.0</td>\n",
       "      <td>3</td>\n",
       "      <td>1</td>\n",
       "      <td>1</td>\n",
       "      <td>2</td>\n",
       "    </tr>\n",
       "    <tr>\n",
       "      <th>4</th>\n",
       "      <td>1017122</td>\n",
       "      <td>8</td>\n",
       "      <td>10</td>\n",
       "      <td>10</td>\n",
       "      <td>8</td>\n",
       "      <td>7</td>\n",
       "      <td>10.0</td>\n",
       "      <td>9</td>\n",
       "      <td>7</td>\n",
       "      <td>1</td>\n",
       "      <td>4</td>\n",
       "    </tr>\n",
       "  </tbody>\n",
       "</table>\n",
       "</div>"
      ],
      "text/plain": [
       "   code_number  Clump_Thickness  Uniformity_size  Uniformity_shape  \\\n",
       "0      1002945                5                4                 4   \n",
       "1      1015425                3                1                 1   \n",
       "2      1016277                6                8                 8   \n",
       "3      1017023                4                1                 1   \n",
       "4      1017122                8               10                10   \n",
       "\n",
       "   Marginal_Adhesion  Epithelial_size  Bare_Nuclei  Bland_Chromatin  \\\n",
       "0                  5                7         10.0                3   \n",
       "1                  1                2          2.0                3   \n",
       "2                  1                3          4.0                3   \n",
       "3                  3                2          1.0                3   \n",
       "4                  8                7         10.0                9   \n",
       "\n",
       "   Normal_Nucleoli  Mitoses  Class  \n",
       "0                2        1      2  \n",
       "1                1        1      2  \n",
       "2                7        1      2  \n",
       "3                1        1      2  \n",
       "4                7        1      4  "
      ]
     },
     "execution_count": 6,
     "metadata": {},
     "output_type": "execute_result"
    }
   ],
   "source": [
    "cancer.head()"
   ]
  },
  {
   "cell_type": "code",
   "execution_count": 7,
   "id": "04770025",
   "metadata": {},
   "outputs": [
    {
     "data": {
      "text/plain": [
       "Index(['code_number', 'Clump_Thickness', 'Uniformity_size', 'Uniformity_shape',\n",
       "       'Marginal_Adhesion', 'Epithelial_size', 'Bare_Nuclei',\n",
       "       'Bland_Chromatin', 'Normal_Nucleoli', 'Mitoses', 'Class'],\n",
       "      dtype='object')"
      ]
     },
     "execution_count": 7,
     "metadata": {},
     "output_type": "execute_result"
    }
   ],
   "source": [
    "cancer.columns"
   ]
  },
  {
   "cell_type": "code",
   "execution_count": 7,
   "id": "220bb307",
   "metadata": {},
   "outputs": [
    {
     "data": {
      "text/plain": [
       "code_number            int64\n",
       "Clump_Thickness        int64\n",
       "Uniformity_size        int64\n",
       "Uniformity_shape       int64\n",
       "Marginal_Adhesion      int64\n",
       "Epithelial_size        int64\n",
       "Bare_Nuclei          float64\n",
       "Bland_Chromatin        int64\n",
       "Normal_Nucleoli        int64\n",
       "Mitoses                int64\n",
       "Class                  int64\n",
       "dtype: object"
      ]
     },
     "execution_count": 7,
     "metadata": {},
     "output_type": "execute_result"
    }
   ],
   "source": [
    "cancer.dtypes"
   ]
  },
  {
   "cell_type": "code",
   "execution_count": 8,
   "id": "7673a303",
   "metadata": {},
   "outputs": [
    {
     "data": {
      "text/plain": [
       "code_number          0\n",
       "Clump_Thickness      0\n",
       "Uniformity_size      0\n",
       "Uniformity_shape     0\n",
       "Marginal_Adhesion    0\n",
       "Epithelial_size      0\n",
       "Bare_Nuclei          0\n",
       "Bland_Chromatin      0\n",
       "Normal_Nucleoli      0\n",
       "Mitoses              0\n",
       "Class                0\n",
       "dtype: int64"
      ]
     },
     "execution_count": 8,
     "metadata": {},
     "output_type": "execute_result"
    }
   ],
   "source": [
    "cancer.isnull().sum()"
   ]
  },
  {
   "cell_type": "code",
   "execution_count": 9,
   "id": "61e77fb2",
   "metadata": {},
   "outputs": [
    {
     "data": {
      "text/plain": [
       "array([10.       ,  2.       ,  4.       ,  1.       ,  3.       ,\n",
       "        9.       ,  7.       ,  3.5483871,  5.       ,  8.       ,\n",
       "        6.       ])"
      ]
     },
     "execution_count": 9,
     "metadata": {},
     "output_type": "execute_result"
    }
   ],
   "source": [
    "cancer.Bare_Nuclei.unique()"
   ]
  },
  {
   "cell_type": "code",
   "execution_count": 10,
   "id": "9c206b98",
   "metadata": {},
   "outputs": [
    {
     "data": {
      "text/plain": [
       "count    698.000000\n",
       "mean       3.548387\n",
       "std        3.603144\n",
       "min        1.000000\n",
       "25%        1.000000\n",
       "50%        1.000000\n",
       "75%        5.000000\n",
       "max       10.000000\n",
       "Name: Bare_Nuclei, dtype: float64"
      ]
     },
     "execution_count": 10,
     "metadata": {},
     "output_type": "execute_result"
    }
   ],
   "source": [
    "cancer.Bare_Nuclei.describe()"
   ]
  },
  {
   "cell_type": "code",
   "execution_count": 11,
   "id": "5cfdc791",
   "metadata": {},
   "outputs": [
    {
     "data": {
      "text/plain": [
       "code_number          0\n",
       "Clump_Thickness      0\n",
       "Uniformity_size      0\n",
       "Uniformity_shape     0\n",
       "Marginal_Adhesion    0\n",
       "Epithelial_size      0\n",
       "Bare_Nuclei          0\n",
       "Bland_Chromatin      0\n",
       "Normal_Nucleoli      0\n",
       "Mitoses              0\n",
       "Class                0\n",
       "dtype: int64"
      ]
     },
     "execution_count": 11,
     "metadata": {},
     "output_type": "execute_result"
    }
   ],
   "source": [
    "cancer.isnull().sum()"
   ]
  },
  {
   "cell_type": "code",
   "execution_count": 12,
   "id": "9622d538",
   "metadata": {},
   "outputs": [
    {
     "data": {
      "text/plain": [
       "{'whiskers': [<matplotlib.lines.Line2D at 0x1ffb220b310>,\n",
       "  <matplotlib.lines.Line2D at 0x1ffb220b5e0>],\n",
       " 'caps': [<matplotlib.lines.Line2D at 0x1ffb220b970>,\n",
       "  <matplotlib.lines.Line2D at 0x1ffb220bd00>],\n",
       " 'boxes': [<matplotlib.lines.Line2D at 0x1ffb21f2e80>],\n",
       " 'medians': [<matplotlib.lines.Line2D at 0x1ffb221b0d0>],\n",
       " 'fliers': [<matplotlib.lines.Line2D at 0x1ffb221b460>],\n",
       " 'means': []}"
      ]
     },
     "execution_count": 12,
     "metadata": {},
     "output_type": "execute_result"
    },
    {
     "data": {
      "image/png": "[encoded data removed]",
      "text/plain": [
       "<Figure size 432x288 with 1 Axes>"
      ]
     },
     "metadata": {
      "needs_background": "light"
     },
     "output_type": "display_data"
    }
   ],
   "source": [
    "import matplotlib.pyplot as plt\n",
    "plt.boxplot(cancer.Bare_Nuclei)"
   ]
  },
  {
   "cell_type": "code",
   "execution_count": 13,
   "id": "b4978c2c",
   "metadata": {},
   "outputs": [],
   "source": [
    "from sklearn.model_selection import train_test_split"
   ]
  },
  {
   "cell_type": "code",
   "execution_count": 27,
   "id": "391bccf3",
   "metadata": {},
   "outputs": [
    {
     "name": "stdout",
     "output_type": "stream",
     "text": [
      "     code_number  Clump_Thickness  Uniformity_size  Uniformity_shape  \\\n",
      "0        1002945                5                4                 4   \n",
      "1        1015425                3                1                 1   \n",
      "2        1016277                6                8                 8   \n",
      "3        1017023                4                1                 1   \n",
      "4        1017122                8               10                10   \n",
      "..           ...              ...              ...               ...   \n",
      "693       776715                3                1                 1   \n",
      "694       841769                2                1                 1   \n",
      "695       888820                5               10                10   \n",
      "696       897471                4                8                 6   \n",
      "697       897471                4                8                 8   \n",
      "\n",
      "     Marginal_Adhesion  Epithelial_size  Bare_Nuclei  Bland_Chromatin  \\\n",
      "0                    5                7         10.0                3   \n",
      "1                    1                2          2.0                3   \n",
      "2                    1                3          4.0                3   \n",
      "3                    3                2          1.0                3   \n",
      "4                    8                7         10.0                9   \n",
      "..                 ...              ...          ...              ...   \n",
      "693                  1                3          2.0                1   \n",
      "694                  1                2          1.0                1   \n",
      "695                  3                7          3.0                8   \n",
      "696                  4                3          4.0               10   \n",
      "697                  5                4          5.0               10   \n",
      "\n",
      "     Normal_Nucleoli  Mitoses  \n",
      "0                  2        1  \n",
      "1                  1        1  \n",
      "2                  7        1  \n",
      "3                  1        1  \n",
      "4                  7        1  \n",
      "..               ...      ...  \n",
      "693                1        1  \n",
      "694                1        1  \n",
      "695               10        2  \n",
      "696                6        1  \n",
      "697                4        1  \n",
      "\n",
      "[698 rows x 10 columns]\n"
     ]
    }
   ],
   "source": [
    "x=cancer.drop(\"Class\",axis=1)\n",
    "print(x)"
   ]
  },
  {
   "cell_type": "code",
   "execution_count": 28,
   "id": "3a6b9825",
   "metadata": {},
   "outputs": [],
   "source": [
    "y=cancer.Class"
   ]
  },
  {
   "cell_type": "code",
   "execution_count": 29,
   "id": "4e3ef9f2",
   "metadata": {},
   "outputs": [
    {
     "name": "stdout",
     "output_type": "stream",
     "text": [
      "0      2\n",
      "1      2\n",
      "2      2\n",
      "3      2\n",
      "4      4\n",
      "      ..\n",
      "693    2\n",
      "694    2\n",
      "695    4\n",
      "696    4\n",
      "697    4\n",
      "Name: Class, Length: 698, dtype: int64\n"
     ]
    }
   ],
   "source": [
    "print(y)"
   ]
  },
  {
   "cell_type": "code",
   "execution_count": 30,
   "id": "f22cd44f",
   "metadata": {},
   "outputs": [],
   "source": [
    "x_train,x_test,y_train,y_test=train_test_split(x,y,train_size=0.8,test_size=0.2,random_state=100)"
   ]
  },
  {
   "cell_type": "code",
   "execution_count": 31,
   "id": "94202451",
   "metadata": {},
   "outputs": [
    {
     "data": {
      "text/plain": [
       "(558, 10)"
      ]
     },
     "execution_count": 31,
     "metadata": {},
     "output_type": "execute_result"
    }
   ],
   "source": [
    "x_train.shape"
   ]
  },
  {
   "cell_type": "code",
   "execution_count": 32,
   "id": "183fac8f",
   "metadata": {},
   "outputs": [
    {
     "data": {
      "text/plain": [
       "(558,)"
      ]
     },
     "execution_count": 32,
     "metadata": {},
     "output_type": "execute_result"
    }
   ],
   "source": [
    "y_train.shape"
   ]
  },
  {
   "cell_type": "code",
   "execution_count": 33,
   "id": "318a761b",
   "metadata": {},
   "outputs": [
    {
     "data": {
      "text/plain": [
       "(140, 10)"
      ]
     },
     "execution_count": 33,
     "metadata": {},
     "output_type": "execute_result"
    }
   ],
   "source": [
    "x_test.shape"
   ]
  },
  {
   "cell_type": "code",
   "execution_count": 34,
   "id": "64d21b82",
   "metadata": {},
   "outputs": [
    {
     "data": {
      "text/plain": [
       "(140,)"
      ]
     },
     "execution_count": 34,
     "metadata": {},
     "output_type": "execute_result"
    }
   ],
   "source": [
    "y_test.shape"
   ]
  },
  {
   "cell_type": "code",
   "execution_count": 35,
   "id": "1391dc0f",
   "metadata": {},
   "outputs": [],
   "source": [
    "from sklearn.linear_model import LogisticRegression"
   ]
  },
  {
   "cell_type": "code",
   "execution_count": 36,
   "id": "71cee0e0",
   "metadata": {},
   "outputs": [],
   "source": [
    "model=LogisticRegression().fit(x_train,y_train)"
   ]
  },
  {
   "cell_type": "code",
   "execution_count": 37,
   "id": "1d8d91b7",
   "metadata": {
    "scrolled": true
   },
   "outputs": [
    {
     "data": {
      "text/plain": [
       "0.6577060931899642"
      ]
     },
     "execution_count": 37,
     "metadata": {},
     "output_type": "execute_result"
    }
   ],
   "source": [
    "model.score(x_train,y_train) "
   ]
  },
  {
   "cell_type": "code",
   "execution_count": 38,
   "id": "6e7b2578",
   "metadata": {},
   "outputs": [
    {
     "name": "stdout",
     "output_type": "stream",
     "text": [
      "[2 2 2 2 2 2 2 2 2 2 2 2 2 2 2 2 2 2 2 2 2 2 2 2 2 2 2 2 2 2 2 2 2 2 2 2 2\n",
      " 2 2 2 2 2 2 2 2 2 2 2 2 2 2 2 2 2 2 2 2 2 2 2 2 2 2 2 2 2 2 2 2 2 2 2 2 2\n",
      " 2 2 2 2 2 2 2 2 2 2 2 2 2 2 2 2 2 2 2 2 2 2 2 2 2 2 2 2 2 2 2 2 2 2 2 2 2\n",
      " 2 2 2 2 2 2 2 2 2 2 2 2 2 2 2 2 2 2 2 2 2 2 2 2 2 2 2 2 2]\n"
     ]
    }
   ],
   "source": [
    "predicted_value=model.predict(x_test)\n",
    "print(predicted_value)"
   ]
  },
  {
   "cell_type": "code",
   "execution_count": 39,
   "id": "7253104e",
   "metadata": {},
   "outputs": [
    {
     "name": "stdout",
     "output_type": "stream",
     "text": [
      "[[0.66386215 0.33613785]\n",
      " [0.61405568 0.38594432]\n",
      " [0.68577778 0.31422222]\n",
      " [0.68978055 0.31021945]\n",
      " [0.67859758 0.32140242]\n",
      " [0.67935901 0.32064099]\n",
      " [0.66891129 0.33108871]\n",
      " [0.69284625 0.30715375]\n",
      " [0.69710477 0.30289523]\n",
      " [0.52687573 0.47312427]\n",
      " [0.63439769 0.36560231]\n",
      " [0.695499   0.304501  ]\n",
      " [0.69882008 0.30117992]\n",
      " [0.67797684 0.32202316]\n",
      " [0.69820403 0.30179597]\n",
      " [0.6937952  0.3062048 ]\n",
      " [0.63136248 0.36863752]\n",
      " [0.66788056 0.33211944]\n",
      " [0.56498828 0.43501172]\n",
      " [0.68272725 0.31727275]\n",
      " [0.55415131 0.44584869]\n",
      " [0.69936462 0.30063538]\n",
      " [0.61843125 0.38156875]\n",
      " [0.60758388 0.39241612]\n",
      " [0.67021684 0.32978316]\n",
      " [0.54051919 0.45948081]\n",
      " [0.68418504 0.31581496]\n",
      " [0.67756415 0.32243585]\n",
      " [0.57362733 0.42637267]\n",
      " [0.55135249 0.44864751]\n",
      " [0.66151953 0.33848047]\n",
      " [0.68715886 0.31284114]\n",
      " [0.66310204 0.33689796]\n",
      " [0.68214134 0.31785866]\n",
      " [0.69173378 0.30826622]\n",
      " [0.68975635 0.31024365]\n",
      " [0.67166187 0.32833813]\n",
      " [0.69462566 0.30537434]\n",
      " [0.68996543 0.31003457]\n",
      " [0.68716624 0.31283376]\n",
      " [0.70254884 0.29745116]\n",
      " [0.68554511 0.31445489]\n",
      " [0.68101734 0.31898266]\n",
      " [0.67010125 0.32989875]\n",
      " [0.68199501 0.31800499]\n",
      " [0.66802346 0.33197654]\n",
      " [0.66257153 0.33742847]\n",
      " [0.58549433 0.41450567]\n",
      " [0.66187184 0.33812816]\n",
      " [0.69999747 0.30000253]\n",
      " [0.66802346 0.33197654]\n",
      " [0.68432547 0.31567453]\n",
      " [0.62653343 0.37346657]\n",
      " [0.68624243 0.31375757]\n",
      " [0.55574978 0.44425022]\n",
      " [0.69635387 0.30364613]\n",
      " [0.6959785  0.3040215 ]\n",
      " [0.67030095 0.32969905]\n",
      " [0.57518015 0.42481985]\n",
      " [0.69500614 0.30499386]\n",
      " [0.67869374 0.32130626]\n",
      " [0.68348443 0.31651557]\n",
      " [0.67798863 0.32201137]\n",
      " [0.6386625  0.3613375 ]\n",
      " [0.68518271 0.31481729]\n",
      " [0.60796618 0.39203382]\n",
      " [0.68201155 0.31798845]\n",
      " [0.69738737 0.30261263]\n",
      " [0.68705832 0.31294168]\n",
      " [0.68029765 0.31970235]\n",
      " [0.58825477 0.41174523]\n",
      " [0.65407009 0.34592991]\n",
      " [0.5997405  0.4002595 ]\n",
      " [0.59965005 0.40034995]\n",
      " [0.5832985  0.4167015 ]\n",
      " [0.68095205 0.31904795]\n",
      " [0.66001111 0.33998889]\n",
      " [0.68426329 0.31573671]\n",
      " [0.67779786 0.32220214]\n",
      " [0.67779772 0.32220228]\n",
      " [0.69971852 0.30028148]\n",
      " [0.6582422  0.3417578 ]\n",
      " [0.6792408  0.3207592 ]\n",
      " [0.68170129 0.31829871]\n",
      " [0.67727173 0.32272827]\n",
      " [0.66953297 0.33046703]\n",
      " [0.6838277  0.3161723 ]\n",
      " [0.67411784 0.32588216]\n",
      " [0.68154534 0.31845466]\n",
      " [0.67756415 0.32243585]\n",
      " [0.68359823 0.31640177]\n",
      " [0.66978443 0.33021557]\n",
      " [0.60727237 0.39272763]\n",
      " [0.67820388 0.32179612]\n",
      " [0.694777   0.305223  ]\n",
      " [0.67579605 0.32420395]\n",
      " [0.67717396 0.32282604]\n",
      " [0.69550842 0.30449158]\n",
      " [0.59465253 0.40534747]\n",
      " [0.6913997  0.3086003 ]\n",
      " [0.67862793 0.32137207]\n",
      " [0.69152238 0.30847762]\n",
      " [0.67822704 0.32177296]\n",
      " [0.6805632  0.3194368 ]\n",
      " [0.6144709  0.3855291 ]\n",
      " [0.56086899 0.43913101]\n",
      " [0.68758882 0.31241118]\n",
      " [0.67103128 0.32896872]\n",
      " [0.68722784 0.31277216]\n",
      " [0.62925043 0.37074957]\n",
      " [0.60867197 0.39132803]\n",
      " [0.58443765 0.41556235]\n",
      " [0.68981998 0.31018002]\n",
      " [0.695499   0.304501  ]\n",
      " [0.66186416 0.33813584]\n",
      " [0.68827126 0.31172874]\n",
      " [0.6953052  0.3046948 ]\n",
      " [0.62588603 0.37411397]\n",
      " [0.66831212 0.33168788]\n",
      " [0.60844236 0.39155764]\n",
      " [0.66084299 0.33915701]\n",
      " [0.63754972 0.36245028]\n",
      " [0.68372919 0.31627081]\n",
      " [0.6782502  0.3217498 ]\n",
      " [0.68057577 0.31942423]\n",
      " [0.68718932 0.31281068]\n",
      " [0.68510856 0.31489144]\n",
      " [0.67760759 0.32239241]\n",
      " [0.67962345 0.32037655]\n",
      " [0.68509211 0.31490789]\n",
      " [0.65615442 0.34384558]\n",
      " [0.60604926 0.39395074]\n",
      " [0.68371517 0.31628483]\n",
      " [0.69763203 0.30236797]\n",
      " [0.68148603 0.31851397]\n",
      " [0.66847393 0.33152607]\n",
      " [0.63530457 0.36469543]\n",
      " [0.66401739 0.33598261]\n",
      " [0.67945852 0.32054148]\n",
      " [0.68339769 0.31660231]]\n"
     ]
    }
   ],
   "source": [
    "probability=model.predict_proba(x_test)\n",
    "print(probability)"
   ]
  },
  {
   "cell_type": "code",
   "execution_count": 150,
   "id": "3bbf0d66",
   "metadata": {},
   "outputs": [
    {
     "data": {
      "text/plain": [
       "array([[90,  0],\n",
       "       [50,  0]], dtype=int64)"
      ]
     },
     "execution_count": 150,
     "metadata": {},
     "output_type": "execute_result"
    }
   ],
   "source": [
    "from sklearn import metrics\n",
    "cnf_matrix = metrics.confusion_matrix(y_test,predicted_value)\n",
    "cnf_matrix"
   ]
  },
  {
   "cell_type": "code",
   "execution_count": null,
   "id": "560d5bb0",
   "metadata": {},
   "outputs": [],
   "source": []
  }
 ],
 "metadata": {
  "kernelspec": {
   "display_name": "Python 3 (ipykernel)",
   "language": "python",
   "name": "python3"
  },
  "language_info": {
   "codemirror_mode": {
    "name": "ipython",
    "version": 3
   },
   "file_extension": ".py",
   "mimetype": "text/x-python",
   "name": "python",
   "nbconvert_exporter": "python",
   "pygments_lexer": "ipython3",
   "version": "3.9.7"
  }
 },
 "nbformat": 4,
 "nbformat_minor": 5
}
